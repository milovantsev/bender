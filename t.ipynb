
import ipywidgets as widgets
from ipywidgets import interact, interactive, fixed, interact_manual


def f(n):
    s = ['Task 1', 'Task 2', 'Task 3']
    print (s[n])

    
interact(f, n=(0, 2))
